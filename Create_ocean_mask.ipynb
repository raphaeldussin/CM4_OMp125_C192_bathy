{
 "cells": [
  {
   "cell_type": "markdown",
   "metadata": {},
   "source": [
    "# Create ocean mask"
   ]
  },
  {
   "cell_type": "markdown",
   "metadata": {},
   "source": [
    "A very straighforward notebook to generate ocean mask for ice-shelves and no ice-shelves configurations."
   ]
  },
  {
   "cell_type": "code",
   "execution_count": 1,
   "metadata": {},
   "outputs": [],
   "source": [
    "import xarray as xr\n",
    "import numpy as np"
   ]
  },
  {
   "cell_type": "code",
   "execution_count": 2,
   "metadata": {},
   "outputs": [],
   "source": [
    "hgrid = xr.open_dataset('ocean_hgrid.nc')"
   ]
  },
  {
   "cell_type": "code",
   "execution_count": 3,
   "metadata": {},
   "outputs": [],
   "source": [
    "OM4 = xr.Dataset()\n",
    "lon = hgrid['x'].values[1::2,1::2].copy()\n",
    "lat = hgrid['y'].values[1::2,1::2].copy()\n",
    "OM4['lon'] = xr.DataArray(data=lon, dims=('yh', 'xh'), attrs={'units': 'degrees_east'})\n",
    "OM4['lat'] = xr.DataArray(data=lat, dims=('yh', 'xh'), attrs={'units': 'degrees_north'})"
   ]
  },
  {
   "cell_type": "markdown",
   "metadata": {},
   "source": [
    "## without antarctic iceshelves"
   ]
  },
  {
   "cell_type": "code",
   "execution_count": 4,
   "metadata": {},
   "outputs": [],
   "source": [
    "topog = xr.open_dataset('ocean_topog_noiceshelves.nc')"
   ]
  },
  {
   "cell_type": "code",
   "execution_count": 5,
   "metadata": {},
   "outputs": [],
   "source": [
    "depth = xr.DataArray(data=topog['depth'].values, dims=('yh', 'xh'))\n",
    "OM4['mask'] = xr.where(depth >0, 1, 0).astype(np.float64)\n",
    "OM4['mask'].attrs = {\"standard_name\": \"ocean fraction at T-cell centers\",\n",
    "                     \"units\": \"none\"}\n",
    "OM4['mask'].encoding = {\"_FillValue\": -1.0e+20}\n",
    "\n",
    "mask = OM4.drop_vars(['lon', 'lat']).rename({'yh': 'ny', 'xh': 'nx'})\n",
    "mask.to_netcdf('ocean_mask_noiceshelves.nc',\n",
    "               format='NETCDF3_64BIT', engine='netcdf4')"
   ]
  },
  {
   "cell_type": "markdown",
   "metadata": {},
   "source": [
    "## with antarctic iceshelves"
   ]
  },
  {
   "cell_type": "code",
   "execution_count": 6,
   "metadata": {},
   "outputs": [],
   "source": [
    "topog = xr.open_dataset('ocean_topog.nc')"
   ]
  },
  {
   "cell_type": "code",
   "execution_count": 7,
   "metadata": {},
   "outputs": [],
   "source": [
    "depth = xr.DataArray(data=topog['depth'].values, dims=('yh', 'xh'))\n",
    "OM4['mask'] = xr.where(depth >0, 1, 0).astype(np.float64)\n",
    "OM4['mask'].attrs = {\"standard_name\": \"ocean fraction at T-cell centers\",\n",
    "                     \"units\": \"none\"}\n",
    "OM4['mask'].encoding = {\"_FillValue\": -1.0e+20}\n",
    "\n",
    "mask = OM4.drop_vars(['lon', 'lat']).rename({'yh': 'ny', 'xh': 'nx'})\n",
    "mask.to_netcdf('ocean_mask_iceshelves.nc',\n",
    "               format='NETCDF3_64BIT', engine='netcdf4')"
   ]
  }
 ],
 "metadata": {
  "kernelspec": {
   "display_name": "Py3-repro4",
   "language": "python",
   "name": "repro"
  },
  "language_info": {
   "codemirror_mode": {
    "name": "ipython",
    "version": 3
   },
   "file_extension": ".py",
   "mimetype": "text/x-python",
   "name": "python",
   "nbconvert_exporter": "python",
   "pygments_lexer": "ipython3",
   "version": "3.8.5"
  }
 },
 "nbformat": 4,
 "nbformat_minor": 4
}
